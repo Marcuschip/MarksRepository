{
 "cells": [
  {
   "cell_type": "markdown",
   "id": "4dfe364c",
   "metadata": {},
   "source": [
    "# Electric Motor Temperature Dataset - ReadMe"
   ]
  },
  {
   "cell_type": "markdown",
   "id": "493e4af1",
   "metadata": {},
   "source": [
    "## Submission checklist"
   ]
  },
  {
   "cell_type": "markdown",
   "id": "8cae22c7",
   "metadata": {},
   "source": [
    "### 1. Link to public dataset\n",
    "\n",
    "The dataset can be viewed here: https://www.kaggle.com/datasets/wkirgsn/electric-motor-temperature?datasetId=236410&sortBy=voteCount"
   ]
  },
  {
   "cell_type": "markdown",
   "id": "5502856f",
   "metadata": {},
   "source": [
    "### 2. Computational Environment\n"
   ]
  },
  {
   "cell_type": "code",
   "execution_count": 1,
   "id": "680396f6",
   "metadata": {},
   "outputs": [
    {
     "name": "stdout",
     "output_type": "stream",
     "text": [
      "Package                  Version\n",
      "------------------------ --------\n",
      "anyio                    3.5.0\n",
      "appdirs                  1.4.4\n",
      "appnope                  0.1.2\n",
      "argon2-cffi              21.3.0\n",
      "argon2-cffi-bindings     21.2.0\n",
      "asttokens                2.0.5\n",
      "attrs                    22.1.0\n",
      "backcall                 0.2.0\n",
      "beautifulsoup4           4.12.2\n",
      "bleach                   4.1.0\n",
      "Bottleneck               1.3.5\n",
      "brotlipy                 0.7.0\n",
      "certifi                  2023.5.7\n",
      "cffi                     1.15.1\n",
      "charset-normalizer       2.0.4\n",
      "comm                     0.1.2\n",
      "contourpy                1.0.5\n",
      "cryptography             39.0.1\n",
      "cycler                   0.11.0\n",
      "debugpy                  1.5.1\n",
      "decorator                5.1.1\n",
      "defusedxml               0.7.1\n",
      "entrypoints              0.4\n",
      "executing                0.8.3\n",
      "fastjsonschema           2.16.2\n",
      "fonttools                4.25.0\n",
      "idna                     3.4\n",
      "ipykernel                6.19.2\n",
      "ipynb                    0.5.1\n",
      "ipython                  8.12.0\n",
      "ipython-genutils         0.2.0\n",
      "jedi                     0.18.1\n",
      "Jinja2                   3.1.2\n",
      "joblib                   1.2.0\n",
      "jsonschema               4.17.3\n",
      "jupyter_client           8.1.0\n",
      "jupyter_core             5.3.0\n",
      "jupyter-events           0.6.3\n",
      "jupyter_server           2.5.0\n",
      "jupyter_server_terminals 0.4.4\n",
      "jupyterlab-pygments      0.1.2\n",
      "kiwisolver               1.4.4\n",
      "lxml                     4.9.2\n",
      "MarkupSafe               2.1.1\n",
      "matplotlib               3.7.1\n",
      "matplotlib-inline        0.1.6\n",
      "mistune                  0.8.4\n",
      "mkl-fft                  1.3.6\n",
      "mkl-random               1.2.2\n",
      "mkl-service              2.4.0\n",
      "munkres                  1.1.4\n",
      "nbclassic                0.5.5\n",
      "nbclient                 0.5.13\n",
      "nbconvert                6.5.4\n",
      "nbformat                 5.7.0\n",
      "nest-asyncio             1.5.6\n",
      "notebook                 6.5.4\n",
      "notebook_shim            0.2.2\n",
      "numexpr                  2.8.4\n",
      "numpy                    1.24.3\n",
      "packaging                23.0\n",
      "pandas                   1.5.3\n",
      "pandocfilters            1.5.0\n",
      "parso                    0.8.3\n",
      "patsy                    0.5.3\n",
      "pexpect                  4.8.0\n",
      "pickleshare              0.7.5\n",
      "Pillow                   9.4.0\n",
      "pip                      23.1.2\n",
      "platformdirs             2.5.2\n",
      "pooch                    1.4.0\n",
      "prometheus-client        0.14.1\n",
      "prompt-toolkit           3.0.36\n",
      "psutil                   5.9.0\n",
      "ptyprocess               0.7.0\n",
      "pure-eval                0.2.2\n",
      "pycparser                2.21\n",
      "Pygments                 2.15.1\n",
      "pyOpenSSL                23.0.0\n",
      "pyparsing                3.0.9\n",
      "pyrsistent               0.18.0\n",
      "PySocks                  1.7.1\n",
      "python-dateutil          2.8.2\n",
      "python-json-logger       2.0.7\n",
      "pytz                     2022.7\n",
      "PyYAML                   6.0\n",
      "pyzmq                    25.1.0\n",
      "requests                 2.29.0\n",
      "rfc3339-validator        0.1.4\n",
      "rfc3986-validator        0.1.1\n",
      "scikit-learn             1.2.2\n",
      "scipy                    1.10.1\n",
      "seaborn                  0.12.2\n",
      "Send2Trash               1.8.0\n",
      "setuptools               67.8.0\n",
      "six                      1.16.0\n",
      "sniffio                  1.2.0\n",
      "soupsieve                2.4\n",
      "stack-data               0.2.0\n",
      "statsmodels              0.13.5\n",
      "terminado                0.17.1\n",
      "threadpoolctl            2.2.0\n",
      "tinycss2                 1.2.1\n",
      "tornado                  6.2\n",
      "traitlets                5.7.1\n",
      "typing_extensions        4.6.3\n",
      "urllib3                  1.26.16\n",
      "wcwidth                  0.2.5\n",
      "webencodings             0.5.1\n",
      "websocket-client         0.58.0\n",
      "wheel                    0.38.4\n",
      "Note: you may need to restart the kernel to use updated packages.\n"
     ]
    }
   ],
   "source": [
    "pip list"
   ]
  },
  {
   "cell_type": "markdown",
   "id": "2f60748e",
   "metadata": {},
   "source": [
    "### 3. Estimate on time spent\n",
    "\n",
    "Time spent on this task was 8 hours."
   ]
  }
 ],
 "metadata": {
  "kernelspec": {
   "display_name": "Python 3 (ipykernel)",
   "language": "python",
   "name": "python3"
  },
  "language_info": {
   "codemirror_mode": {
    "name": "ipython",
    "version": 3
   },
   "file_extension": ".py",
   "mimetype": "text/x-python",
   "name": "python",
   "nbconvert_exporter": "python",
   "pygments_lexer": "ipython3",
   "version": "3.10.11"
  }
 },
 "nbformat": 4,
 "nbformat_minor": 5
}
