{
 "cells": [
  {
   "cell_type": "code",
   "execution_count": 1,
   "id": "3c1e54e0",
   "metadata": {},
   "outputs": [
    {
     "name": "stdout",
     "output_type": "stream",
     "text": [
      "Intel MKL WARNING: Support of Intel(R) Streaming SIMD Extensions 4.2 (Intel(R) SSE4.2) enabled only processors has been deprecated. Intel oneAPI Math Kernel Library 2025.0 will require Intel(R) Advanced Vector Extensions (Intel(R) AVX) instructions.\n",
      "Intel MKL WARNING: Support of Intel(R) Streaming SIMD Extensions 4.2 (Intel(R) SSE4.2) enabled only processors has been deprecated. Intel oneAPI Math Kernel Library 2025.0 will require Intel(R) Advanced Vector Extensions (Intel(R) AVX) instructions.\n"
     ]
    }
   ],
   "source": [
    "# import packages for the file\n",
    "# standard mathematical imports\n",
    "import numpy as np\n",
    "import pandas as pd\n",
    "\n",
    "# visualisation imports\n",
    "import matplotlib.pyplot as plt\n",
    "import matplotlib.colors as clr\n",
    "import seaborn as sns\n",
    "\n",
    "# data science imports\n",
    "import statsmodels.api as sm\n",
    "from statsmodels.stats.outliers_influence import variance_inflation_factor\n",
    "from sklearn.model_selection import train_test_split\n",
    "from sklearn.linear_model import LinearRegression\n",
    "from sklearn.ensemble import RandomForestRegressor\n",
    "\n",
    "# warnings and settings\n",
    "import warnings\n",
    "warnings.filterwarnings('ignore')\n",
    "pd.set_option('display.float_format', '{:.4f}'.format)"
   ]
  },
  {
   "cell_type": "code",
   "execution_count": 2,
   "id": "7b1b4684",
   "metadata": {},
   "outputs": [],
   "source": [
    "def get_data():\n",
    "    df = pd.read_csv('../KB Assignment/measures_v2.csv') # file location\n",
    "    df['time']= df.groupby('profile_id').cumcount() # get the sequential time column rather than relying on index\n",
    "    df['d_power'] = df['i_d']*df['u_d'] # electrical power formula\n",
    "    df['q_power'] = df['i_q']*df['u_q']\n",
    "    df = df[['profile_id','time','u_q','u_d','i_q','i_d','q_power','d_power','torque','motor_speed','ambient','coolant','pm','stator_yoke','stator_winding','stator_tooth']]\n",
    "    # above is re-ordering the columns\n",
    "    return df"
   ]
  },
  {
   "cell_type": "code",
   "execution_count": 3,
   "id": "93b4b09e",
   "metadata": {},
   "outputs": [],
   "source": [
    "def describe_data(df):\n",
    "    return df.describe()"
   ]
  },
  {
   "cell_type": "code",
   "execution_count": 4,
   "id": "dc0e4265",
   "metadata": {},
   "outputs": [],
   "source": [
    "def add_absolute_values(df):  # function to just take the absolute values for each electrical measurement\n",
    "    df['u_q_abs'] = df['u_q'].abs()\n",
    "    df['u_d_abs'] = df['u_d'].abs()\n",
    "    df['i_q_abs'] = df['i_q'].abs()\n",
    "    df['i_d_abs'] = df['i_d'].abs()\n",
    "    df['q_power_abs'] = df['q_power'].abs()\n",
    "    df['d_power_abs'] = df['d_power'].abs()\n",
    "    df = df[['profile_id','time','u_q','u_q_abs','u_d','u_d_abs','i_q','i_q_abs','i_d','i_d_abs','q_power','q_power_abs','d_power','d_power_abs','torque','motor_speed','ambient','coolant','pm','stator_yoke','stator_winding','stator_tooth']]\n",
    "    return df"
   ]
  },
  {
   "cell_type": "code",
   "execution_count": 5,
   "id": "c23d2f27",
   "metadata": {},
   "outputs": [],
   "source": [
    "def histplots(df):   # function to plot every histogram\n",
    "    dfui = df.drop(['profile_id', 'time'], axis=1)  # dataframe under investigation\n",
    "    # prepare colors\n",
    "    color_list = plt.cm.gist_rainbow(np.linspace(0, 1, 18)[list(range(18))+[0, 1]]) # colour scheme\n",
    "    coi = [c for c in dfui]  # columns of interest\n",
    "    feat_clrs = {k: clr.rgb2hex(color_list[i][:3]) for i, k in enumerate(coi)} if color_list is not None else {}\n",
    "\n",
    "    n_cols = 4\n",
    "    n_rows = np.ceil(dfui.shape[1] / n_cols).astype(int)\n",
    "    fig, axes = plt.subplots(n_rows, n_cols, figsize=(2.8*n_cols, n_rows*4))\n",
    "    for i, (ax, col) in enumerate(zip(axes.flatten(), list(dfui.columns))):\n",
    "        sns.distplot(dfui[col], color=feat_clrs[col], ax=ax)\n",
    "        if i % n_cols == 0:\n",
    "            ax.set_ylabel('Density')\n",
    "    plt.tight_layout()"
   ]
  },
  {
   "cell_type": "code",
   "execution_count": 6,
   "id": "e8943c4e",
   "metadata": {},
   "outputs": [],
   "source": [
    "def boxplots(df):   # same as above just with boxplots instead\n",
    "    dfui = df.drop(['profile_id', 'time'], axis=1)  # dataframe under investigation\n",
    "    # prepare colors\n",
    "    color_list = plt.cm.gist_rainbow(np.linspace(0, 1, 18)[list(range(18))+[0, 1]]) # colour scheme\n",
    "    coi = [c for c in dfui] # columns of interest\n",
    "    feat_clrs = {k: clr.rgb2hex(color_list[i][:3]) for i, k in enumerate(coi)} if color_list is not None else {}\n",
    "\n",
    "    n_cols = 4\n",
    "    n_rows = np.ceil(dfui.shape[1] / n_cols).astype(int)\n",
    "    fig, axes = plt.subplots(n_rows, n_cols, figsize=(2.8*n_cols, n_rows*4))\n",
    "    for i, (ax, col) in enumerate(zip(axes.flatten(), list(dfui.columns))):\n",
    "        sns.boxplot(dfui[col], color=feat_clrs[col], ax=ax)\n",
    "        if i % n_cols == 0:\n",
    "            ax.set_ylabel('Values')\n",
    "        ax.set_xlabel(col)\n",
    "    plt.tight_layout()"
   ]
  },
  {
   "cell_type": "code",
   "execution_count": 7,
   "id": "add7e633",
   "metadata": {},
   "outputs": [],
   "source": [
    "# correlation heatmap\n",
    "def correlation_matrix(df):\n",
    "    f,ax=plt.subplots(figsize=(12,12))\n",
    "    corr=df.corr()\n",
    "\n",
    "    sns.heatmap(corr, annot=True, linewidths=.5, fmt='.2f',  \n",
    "                square=True, ax=ax)\n",
    "\n",
    "    plt.show()"
   ]
  },
  {
   "cell_type": "code",
   "execution_count": 8,
   "id": "7405dd29",
   "metadata": {},
   "outputs": [],
   "source": [
    "def sessiondf(df):  # simple function to identify the session for the next set of plots\n",
    "    session_df = df[df['profile_id'] == 20]\n",
    "    return session_df"
   ]
  },
  {
   "cell_type": "code",
   "execution_count": 9,
   "id": "f571f2ce",
   "metadata": {},
   "outputs": [],
   "source": [
    "def temp_plot(df):    # function to produce a line chart with multiple lines\n",
    "    plt.figure(figsize=(20,8))\n",
    "    session_df = sessiondf(df)\n",
    "    plt.plot(session_df.time, session_df.pm, \"-b\", label=\"Permanent Magent\")\n",
    "    plt.plot(session_df.time, session_df.stator_yoke, \"-r\", label=\"Stator Yoke\")\n",
    "    plt.plot(session_df.time, session_df.stator_tooth, \"-g\", label=\"Stator Tooth\")\n",
    "    plt.plot(session_df.time, session_df.stator_winding, \"-k\", label=\"Stator Winding\")\n",
    "    plt.legend(loc=\"upper left\")\n",
    "    plt.xlabel(\"Time\")\n",
    "    plt.ylabel(\"Temperature\")\n",
    "    plt.title('Temperature of the Permanent Magnet and Stators')\n",
    "    plt.show()"
   ]
  },
  {
   "cell_type": "code",
   "execution_count": 10,
   "id": "36087203",
   "metadata": {},
   "outputs": [],
   "source": [
    "def plot_temp_against_var(df, var, label):  # similar to above except having a secondary y axis on a different scale\n",
    "    fig, host = plt.subplots(figsize=(20,8))  \n",
    "    ax2 = host.twinx()  \n",
    "    host.set_xlabel(\"Time\")\n",
    "    host.set_ylabel(\"Temperature\")\n",
    "    ax2.set_ylabel(label)\n",
    "    p1 = host.plot(df.time, df.pm, \"-b\", label=\"Permanent Magnet\")\n",
    "    p2 = host.plot(df.time, df.stator_yoke, \"-r\", label=\"Stator Yoke\")\n",
    "    p3 = host.plot(df.time, df.stator_tooth, \"-g\", label=\"Stator Tooth\")\n",
    "    p4 = host.plot(df.time, df.stator_winding, \"-k\", label=\"Stator Winding\")\n",
    "    p5 = ax2.plot(df.time, df[var], \":m\", label=label)\n",
    "    host.legend(handles=p1+p2+p3+p4+p5, loc='best')\n",
    "    plt.title('Temperature of the Permanent Magnet and Stators against '+str(label))\n",
    "    plt.show()"
   ]
  },
  {
   "cell_type": "code",
   "execution_count": 11,
   "id": "c57d315b",
   "metadata": {},
   "outputs": [],
   "source": [
    "def x_y_split(df):    # function to split df into x and y\n",
    "    X = df.copy()\n",
    "    X = X.drop(['profile_id', 'time', 'pm', 'stator_yoke', 'stator_winding', 'stator_tooth'], axis=1)\n",
    "    y = df.copy()\n",
    "    y = y.stator_yoke\n",
    "    return X, y"
   ]
  },
  {
   "cell_type": "code",
   "execution_count": 12,
   "id": "1d0a9ac7",
   "metadata": {},
   "outputs": [],
   "source": [
    "def vif(x):   # function to explore multicolinearity\n",
    "    vif = pd.DataFrame()\n",
    "    vif[\"variables\"] = x.columns\n",
    "    vif[\"VIF\"] = [variance_inflation_factor(x.values, i) for i in range(x.shape[1])]\n",
    "    return vif"
   ]
  },
  {
   "cell_type": "code",
   "execution_count": 13,
   "id": "9a3b9171",
   "metadata": {},
   "outputs": [],
   "source": [
    "def ols(x,y):       # function to explore p values and other metrics\n",
    "    X_constant = sm.add_constant(x, prepend=False)\n",
    "    model = sm.OLS(y,X_constant)\n",
    "    results = model.fit()\n",
    "    print(results.summary())"
   ]
  },
  {
   "cell_type": "code",
   "execution_count": 14,
   "id": "4c026e46",
   "metadata": {},
   "outputs": [],
   "source": [
    "def tts(data):   # typical variable selection and test train split\n",
    "    x = data[['u_q', 'u_d', 'i_q', 'i_d','motor_speed','ambient', 'coolant']]\n",
    "    y = data.stator_yoke\n",
    "    X_train, X_test, y_train, y_test = train_test_split(x, y, test_size=0.3, random_state=42)\n",
    "    return X_train, X_test, y_train, y_test"
   ]
  },
  {
   "cell_type": "code",
   "execution_count": 15,
   "id": "c30fba12",
   "metadata": {},
   "outputs": [],
   "source": [
    "def linear_model(data):    # build linear regression, fitting, and scoring.\n",
    "    X_train, X_test, y_train, y_test = tts(data)   # uses function above\n",
    "    ln_model = LinearRegression()\n",
    "    ln_model.fit(X_train, y_train)\n",
    "    ln_score = ln_model.score(X_test, y_test)\n",
    "    return ln_model, ln_score"
   ]
  },
  {
   "cell_type": "code",
   "execution_count": 16,
   "id": "e049c051",
   "metadata": {},
   "outputs": [],
   "source": [
    "def linear_example(data, model):\n",
    "    test = data[data['profile_id'] == 6]\n",
    "    tbp = test[['u_q', 'u_d', 'i_q', 'i_d','motor_speed','ambient', 'coolant']]\n",
    "    test['predicted_temp'] = model.predict(tbp)\n",
    "    plt.figure(figsize=(20,8))\n",
    "    plt.plot(test.time, test.predicted_temp, \"-k\", label=\"Predicted Temp\")\n",
    "    plt.plot(test.time, test.stator_yoke, \"-r\", label=\"Stator Yoke\")\n",
    "    plt.legend(loc=\"upper left\")\n",
    "    plt.xlabel(\"Time\")\n",
    "    plt.ylabel(\"Temperature\")\n",
    "    plt.show()"
   ]
  },
  {
   "cell_type": "code",
   "execution_count": 17,
   "id": "88b57104",
   "metadata": {},
   "outputs": [],
   "source": [
    "def randomforestregression(data):\n",
    "    X_train, X_test, y_train, y_test = tts(data)\n",
    "    rfr_model = RandomForestRegressor(n_estimators = 10, random_state = 42)\n",
    "    rfr_model.fit(X_train, y_train)\n",
    "    rfr_score = rfr_model.score(X_test, y_test)\n",
    "    return rfr_model, rfr_score"
   ]
  },
  {
   "cell_type": "code",
   "execution_count": 18,
   "id": "55e7ea8f",
   "metadata": {},
   "outputs": [],
   "source": [
    "def random_forest_example(data, rfr_model):\n",
    "    test = data[data['profile_id'] == 74]\n",
    "    tbp = test[['u_q', 'u_d', 'i_q', 'i_d','motor_speed','ambient', 'coolant']]\n",
    "    test['predicted_temp'] = rfr_model.predict(tbp)\n",
    "    plt.figure(figsize=(20,8))\n",
    "    plt.plot(test.time, test.predicted_temp, \"-k\", label=\"Predicted Temp\")\n",
    "    plt.plot(test.time, test.stator_yoke, \"-r\", label=\"Stator Yoke\")\n",
    "    plt.legend(loc=\"upper left\")\n",
    "    plt.xlabel(\"Time\")\n",
    "    plt.ylabel(\"Temperature\")\n",
    "    plt.show()"
   ]
  },
  {
   "cell_type": "code",
   "execution_count": null,
   "id": "2c6e615e",
   "metadata": {},
   "outputs": [],
   "source": []
  }
 ],
 "metadata": {
  "kernelspec": {
   "display_name": "Python 3 (ipykernel)",
   "language": "python",
   "name": "python3"
  },
  "language_info": {
   "codemirror_mode": {
    "name": "ipython",
    "version": 3
   },
   "file_extension": ".py",
   "mimetype": "text/x-python",
   "name": "python",
   "nbconvert_exporter": "python",
   "pygments_lexer": "ipython3",
   "version": "3.10.11"
  }
 },
 "nbformat": 4,
 "nbformat_minor": 5
}
